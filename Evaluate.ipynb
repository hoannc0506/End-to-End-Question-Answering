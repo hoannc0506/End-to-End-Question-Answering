{
 "cells": [
  {
   "cell_type": "markdown",
   "id": "0bbf9736-e1e3-484e-904e-15030b380973",
   "metadata": {
    "jp-MarkdownHeadingCollapsed": true
   },
   "source": [
    "## Push model to hub"
   ]
  },
  {
   "cell_type": "code",
   "execution_count": 1,
   "id": "a16e567d-c2e8-48e5-8263-4b3fb4956a2f",
   "metadata": {},
   "outputs": [
    {
     "data": {
      "application/vnd.jupyter.widget-view+json": {
       "model_id": "a16e456eb11647fe8cc836040c2328b7",
       "version_major": 2,
       "version_minor": 0
      },
      "text/plain": [
       "VBox(children=(HTML(value='<center> <img\\nsrc=https://huggingface.co/front/assets/huggingface_logo-noborder.sv…"
      ]
     },
     "metadata": {},
     "output_type": "display_data"
    }
   ],
   "source": [
    "# public model\n",
    "from huggingface_hub import notebook_login\n",
    "\n",
    "notebook_login()"
   ]
  },
  {
   "cell_type": "code",
   "execution_count": 7,
   "id": "b424470f-b5de-4f5d-b902-afa82170facc",
   "metadata": {},
   "outputs": [],
   "source": [
    "from transformers import AutoTokenizer, AutoModelForQuestionAnswering"
   ]
  },
  {
   "cell_type": "code",
   "execution_count": 8,
   "id": "9f532f15-904c-4461-bd5e-975677f9e408",
   "metadata": {},
   "outputs": [
    {
     "data": {
      "text/plain": [
       "DistilBertTokenizerFast(name_or_path='distilbert-finetuned-squadv2/checkpoint-24705/', vocab_size=30522, model_max_length=512, is_fast=True, padding_side='right', truncation_side='right', special_tokens={'unk_token': '[UNK]', 'sep_token': '[SEP]', 'pad_token': '[PAD]', 'cls_token': '[CLS]', 'mask_token': '[MASK]'}, clean_up_tokenization_spaces=True),  added_tokens_decoder={\n",
       "\t0: AddedToken(\"[PAD]\", rstrip=False, lstrip=False, single_word=False, normalized=False, special=True),\n",
       "\t100: AddedToken(\"[UNK]\", rstrip=False, lstrip=False, single_word=False, normalized=False, special=True),\n",
       "\t101: AddedToken(\"[CLS]\", rstrip=False, lstrip=False, single_word=False, normalized=False, special=True),\n",
       "\t102: AddedToken(\"[SEP]\", rstrip=False, lstrip=False, single_word=False, normalized=False, special=True),\n",
       "\t103: AddedToken(\"[MASK]\", rstrip=False, lstrip=False, single_word=False, normalized=False, special=True),\n",
       "}"
      ]
     },
     "execution_count": 8,
     "metadata": {},
     "output_type": "execute_result"
    }
   ],
   "source": [
    "tokenizer = AutoTokenizer.from_pretrained('distilbert-finetuned-squadv2/checkpoint-24705/')\n",
    "tokenizer"
   ]
  },
  {
   "cell_type": "code",
   "execution_count": 9,
   "id": "ee0861c0-c0e2-45e3-bc56-89e567603971",
   "metadata": {},
   "outputs": [
    {
     "data": {
      "application/vnd.jupyter.widget-view+json": {
       "model_id": "30d52c2200c644599fa87ede25faca47",
       "version_major": 2,
       "version_minor": 0
      },
      "text/plain": [
       "README.md:   0%|          | 0.00/5.18k [00:00<?, ?B/s]"
      ]
     },
     "metadata": {},
     "output_type": "display_data"
    },
    {
     "data": {
      "text/plain": [
       "CommitInfo(commit_url='https://huggingface.co/hoannc0506/qa-squadv2-distilbert/commit/5fc1011a6178fe684e142a52ed2d2542f26e3a80', commit_message='Upload tokenizer', commit_description='', oid='5fc1011a6178fe684e142a52ed2d2542f26e3a80', pr_url=None, pr_revision=None, pr_num=None)"
      ]
     },
     "execution_count": 9,
     "metadata": {},
     "output_type": "execute_result"
    }
   ],
   "source": [
    "tokenizer.push_to_hub(\"hoannc0506/qa-squadv2-distilbert\")"
   ]
  },
  {
   "cell_type": "code",
   "execution_count": 4,
   "id": "46091b64-f1ca-459b-ae42-45d7e5b62ea6",
   "metadata": {},
   "outputs": [],
   "source": [
    "# init model\n",
    "model = AutoModelForQuestionAnswering.from_pretrained('distilbert-finetuned-squadv2/checkpoint-24705/')"
   ]
  },
  {
   "cell_type": "code",
   "execution_count": 5,
   "id": "b716989e-7b37-4291-8fea-b370c5843938",
   "metadata": {
    "scrolled": true
   },
   "outputs": [
    {
     "data": {
      "text/plain": [
       "DistilBertForQuestionAnswering(\n",
       "  (distilbert): DistilBertModel(\n",
       "    (embeddings): Embeddings(\n",
       "      (word_embeddings): Embedding(30522, 768, padding_idx=0)\n",
       "      (position_embeddings): Embedding(512, 768)\n",
       "      (LayerNorm): LayerNorm((768,), eps=1e-12, elementwise_affine=True)\n",
       "      (dropout): Dropout(p=0.1, inplace=False)\n",
       "    )\n",
       "    (transformer): Transformer(\n",
       "      (layer): ModuleList(\n",
       "        (0-5): 6 x TransformerBlock(\n",
       "          (attention): MultiHeadSelfAttention(\n",
       "            (dropout): Dropout(p=0.1, inplace=False)\n",
       "            (q_lin): Linear(in_features=768, out_features=768, bias=True)\n",
       "            (k_lin): Linear(in_features=768, out_features=768, bias=True)\n",
       "            (v_lin): Linear(in_features=768, out_features=768, bias=True)\n",
       "            (out_lin): Linear(in_features=768, out_features=768, bias=True)\n",
       "          )\n",
       "          (sa_layer_norm): LayerNorm((768,), eps=1e-12, elementwise_affine=True)\n",
       "          (ffn): FFN(\n",
       "            (dropout): Dropout(p=0.1, inplace=False)\n",
       "            (lin1): Linear(in_features=768, out_features=3072, bias=True)\n",
       "            (lin2): Linear(in_features=3072, out_features=768, bias=True)\n",
       "            (activation): GELUActivation()\n",
       "          )\n",
       "          (output_layer_norm): LayerNorm((768,), eps=1e-12, elementwise_affine=True)\n",
       "        )\n",
       "      )\n",
       "    )\n",
       "  )\n",
       "  (qa_outputs): Linear(in_features=768, out_features=2, bias=True)\n",
       "  (dropout): Dropout(p=0.1, inplace=False)\n",
       ")"
      ]
     },
     "execution_count": 5,
     "metadata": {},
     "output_type": "execute_result"
    }
   ],
   "source": [
    "model"
   ]
  },
  {
   "cell_type": "code",
   "execution_count": 6,
   "id": "cfd88a62-7993-45bd-ab3b-b043cf21f1bd",
   "metadata": {},
   "outputs": [
    {
     "data": {
      "application/vnd.jupyter.widget-view+json": {
       "model_id": "7e171533d691433982387fb1b2997aff",
       "version_major": 2,
       "version_minor": 0
      },
      "text/plain": [
       "model.safetensors:   0%|          | 0.00/265M [00:00<?, ?B/s]"
      ]
     },
     "metadata": {},
     "output_type": "display_data"
    },
    {
     "data": {
      "text/plain": [
       "CommitInfo(commit_url='https://huggingface.co/hoannc0506/qa-squadv2-distilbert/commit/c68cca5133613136bf253a0c013e3d2ebaa24249', commit_message='Upload DistilBertForQuestionAnswering', commit_description='', oid='c68cca5133613136bf253a0c013e3d2ebaa24249', pr_url=None, pr_revision=None, pr_num=None)"
      ]
     },
     "execution_count": 6,
     "metadata": {},
     "output_type": "execute_result"
    }
   ],
   "source": [
    "model.push_to_hub(\"hoannc0506/qa-squadv2-distilbert\")"
   ]
  },
  {
   "cell_type": "markdown",
   "id": "dbd587c7-974d-4405-b496-8173bfbacb67",
   "metadata": {},
   "source": [
    "## Inference with hugging face pipeline"
   ]
  },
  {
   "cell_type": "code",
   "execution_count": 1,
   "id": "1185a002-a1f8-440b-a6ef-9a1efc05a03e",
   "metadata": {},
   "outputs": [],
   "source": [
    "import os\n",
    "os.environ[\"CUDA_VISIBLE_DEVICES\"]=\"0\""
   ]
  },
  {
   "cell_type": "code",
   "execution_count": 2,
   "id": "23668611-b8c1-46f8-8a49-143b0a0a1bb1",
   "metadata": {},
   "outputs": [],
   "source": [
    "from transformers import pipeline\n",
    "from transformers import AutoTokenizer, AutoModelForQuestionAnswering"
   ]
  },
  {
   "cell_type": "code",
   "execution_count": 3,
   "id": "cd71922b-9077-4b19-ab7a-8b7ba17fdf81",
   "metadata": {},
   "outputs": [],
   "source": [
    "model_name = \"hoannc0506/qa-squadv2-distilbert\"\n",
    "model = AutoModelForQuestionAnswering.from_pretrained(model_name)\n",
    "tokenizer = AutoTokenizer.from_pretrained(model_name)"
   ]
  },
  {
   "cell_type": "code",
   "execution_count": 6,
   "id": "e168115d-803c-4d01-b728-c40ec87574ec",
   "metadata": {},
   "outputs": [],
   "source": [
    "pipe = pipeline(\"question-answering\", model=model, tokenizer=tokenizer, device=\"cuda\")"
   ]
  },
  {
   "cell_type": "code",
   "execution_count": 7,
   "id": "1eb88bcd-6fb9-46b9-a5c7-0d16fd059359",
   "metadata": {},
   "outputs": [
    {
     "data": {
      "text/plain": [
       "device(type='cuda')"
      ]
     },
     "execution_count": 7,
     "metadata": {},
     "output_type": "execute_result"
    }
   ],
   "source": [
    "pipe.device"
   ]
  },
  {
   "cell_type": "code",
   "execution_count": 8,
   "id": "54ea850b-731e-443a-852a-aa5e5774a7d1",
   "metadata": {},
   "outputs": [],
   "source": [
    "input_question = \"What's my name?\"\n",
    "input_context = \"My name is Clara and I live in Berkeley.\""
   ]
  },
  {
   "cell_type": "code",
   "execution_count": 9,
   "id": "dff57f28-577b-49c9-8242-216aa928ecc6",
   "metadata": {
    "scrolled": true
   },
   "outputs": [
    {
     "data": {
      "text/plain": [
       "{'score': 0.9852074980735779, 'start': 11, 'end': 16, 'answer': 'Clara'}"
      ]
     },
     "execution_count": 9,
     "metadata": {},
     "output_type": "execute_result"
    }
   ],
   "source": [
    "pipe(question=input_question, context=input_context)"
   ]
  },
  {
   "cell_type": "markdown",
   "id": "fe3d6d6f-5f9f-402e-a1e0-d990de4c6307",
   "metadata": {},
   "source": [
    "## Evaluate on validation dataset"
   ]
  },
  {
   "cell_type": "code",
   "execution_count": 10,
   "id": "af08597a-3388-4fc3-ac28-da0d906e0e35",
   "metadata": {},
   "outputs": [],
   "source": [
    "import evaluate\n",
    "import numpy as np\n",
    "from validation import compute_metrics\n",
    "from datasets import load_dataset\n",
    "from config import QAConfig\n",
    "from data_utils import SquadDataProcessor\n",
    "from transformers import Trainer"
   ]
  },
  {
   "cell_type": "code",
   "execution_count": 11,
   "id": "e62d26c3-16e5-4d56-bd25-0bd1ea008ffb",
   "metadata": {},
   "outputs": [],
   "source": [
    "cfg = QAConfig(NUM_PROC=4)"
   ]
  },
  {
   "cell_type": "code",
   "execution_count": 12,
   "id": "a33ce676-63a0-4e5e-b64c-152d64d960d4",
   "metadata": {},
   "outputs": [],
   "source": [
    "data_processor = SquadDataProcessor(cfg)"
   ]
  },
  {
   "cell_type": "code",
   "execution_count": 21,
   "id": "314ceb9a-c6f6-4a59-a61b-5504183b9ffc",
   "metadata": {},
   "outputs": [],
   "source": [
    "# raw_val_dataset = load_dataset(cfg.DATASET_NAME, split =\"validation[:10%]\", num_proc=cfg.NUM_PROC)\n",
    "raw_val_dataset = load_dataset(cfg.DATASET_NAME, split =\"validation\", num_proc=cfg.NUM_PROC)"
   ]
  },
  {
   "cell_type": "code",
   "execution_count": 22,
   "id": "bad5a4b5-9584-4b1e-81ce-38386aa73b29",
   "metadata": {},
   "outputs": [
    {
     "name": "stdout",
     "output_type": "stream",
     "text": [
      "Processing validation data\n"
     ]
    },
    {
     "data": {
      "application/vnd.jupyter.widget-view+json": {
       "model_id": "34524f76680d49628f76020a3def9557",
       "version_major": 2,
       "version_minor": 0
      },
      "text/plain": [
       "Tokenizing validation data (num_proc=4):   0%|          | 0/11873 [00:00<?, ? examples/s]"
      ]
     },
     "metadata": {},
     "output_type": "display_data"
    }
   ],
   "source": [
    "val_data = data_processor.process_data(raw_val_dataset, data_type=\"validation\")"
   ]
  },
  {
   "cell_type": "code",
   "execution_count": 23,
   "id": "0110ad7f-8403-4a6a-9cf3-ca67dab75482",
   "metadata": {},
   "outputs": [
    {
     "name": "stderr",
     "output_type": "stream",
     "text": [
      "Detected kernel version 4.18.0, which is below the recommended minimum of 5.5.0; this can cause the process to hang. It is recommended to upgrade the kernel to the minimum version or higher.\n"
     ]
    }
   ],
   "source": [
    "trainer = Trainer(\n",
    "    model=model,\n",
    "    tokenizer=tokenizer\n",
    ")"
   ]
  },
  {
   "cell_type": "code",
   "execution_count": 24,
   "id": "bc6bae19-4c6a-45b2-b7ed-089ed4c5d33e",
   "metadata": {},
   "outputs": [
    {
     "data": {
      "text/html": [],
      "text/plain": [
       "<IPython.core.display.HTML object>"
      ]
     },
     "metadata": {},
     "output_type": "display_data"
    }
   ],
   "source": [
    "predictions, label_ids, metrics = trainer.predict(val_data)"
   ]
  },
  {
   "cell_type": "code",
   "execution_count": 25,
   "id": "d3399499-e0a8-471d-a69d-3b33dae12118",
   "metadata": {},
   "outputs": [],
   "source": [
    "start_logits, end_logits = predictions"
   ]
  },
  {
   "cell_type": "code",
   "execution_count": 26,
   "id": "43f029a2-5225-4913-b37a-f29cbb36b644",
   "metadata": {
    "scrolled": true
   },
   "outputs": [
    {
     "data": {
      "text/plain": [
       "(384,)"
      ]
     },
     "execution_count": 26,
     "metadata": {},
     "output_type": "execute_result"
    }
   ],
   "source": [
    "start_logits[0].shape"
   ]
  },
  {
   "cell_type": "code",
   "execution_count": 27,
   "id": "7195417f-9623-43e8-83e1-d9bf7e24bc2f",
   "metadata": {},
   "outputs": [
    {
     "data": {
      "text/plain": [
       "(12134, 384)"
      ]
     },
     "execution_count": 27,
     "metadata": {},
     "output_type": "execute_result"
    }
   ],
   "source": [
    "end_logits.shape"
   ]
  },
  {
   "cell_type": "code",
   "execution_count": 28,
   "id": "5fc1756c-f955-4c17-b28b-3eb4d6359a3d",
   "metadata": {},
   "outputs": [
    {
     "name": "stderr",
     "output_type": "stream",
     "text": [
      "100%|██████████| 11873/11873 [00:19<00:00, 613.90it/s]\n"
     ]
    },
    {
     "data": {
      "text/plain": [
       "{'exact': 48.29444959151015,\n",
       " 'f1': 52.42098419750788,\n",
       " 'total': 11873,\n",
       " 'HasAns_exact': 74.66261808367072,\n",
       " 'HasAns_f1': 82.92752114996797,\n",
       " 'HasAns_total': 5928,\n",
       " 'NoAns_exact': 22.001682085786374,\n",
       " 'NoAns_f1': 22.001682085786374,\n",
       " 'NoAns_total': 5945,\n",
       " 'best_exact': 65.71211993598922,\n",
       " 'best_exact_thresh': -11.003822326660156,\n",
       " 'best_f1': 67.46175087372762,\n",
       " 'best_f1_thresh': -10.673299789428711}"
      ]
     },
     "execution_count": 28,
     "metadata": {},
     "output_type": "execute_result"
    }
   ],
   "source": [
    "results = compute_metrics(\n",
    "    start_logits,\n",
    "    end_logits,\n",
    "    val_data,\n",
    "    raw_val_dataset\n",
    ")\n",
    "results"
   ]
  }
 ],
 "metadata": {
  "kernelspec": {
   "display_name": "Python 3.8.12 64-bit",
   "language": "python",
   "name": "python3"
  },
  "language_info": {
   "codemirror_mode": {
    "name": "ipython",
    "version": 3
   },
   "file_extension": ".py",
   "mimetype": "text/x-python",
   "name": "python",
   "nbconvert_exporter": "python",
   "pygments_lexer": "ipython3",
   "version": "3.8.12"
  },
  "vscode": {
   "interpreter": {
    "hash": "949777d72b0d2535278d3dc13498b2535136f6dfe0678499012e853ee9abcab1"
   }
  }
 },
 "nbformat": 4,
 "nbformat_minor": 5
}
